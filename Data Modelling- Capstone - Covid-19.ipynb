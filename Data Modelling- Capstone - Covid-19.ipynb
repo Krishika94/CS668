{
 "cells": [
  {
   "cell_type": "code",
   "execution_count": 162,
   "metadata": {},
   "outputs": [],
   "source": [
    "import pandas as pd\n",
    "import numpy as np\n",
    "import matplotlib.pyplot as plt"
   ]
  },
  {
   "cell_type": "code",
   "execution_count": 163,
   "metadata": {},
   "outputs": [
    {
     "data": {
      "text/html": [
       "<div>\n",
       "<style scoped>\n",
       "    .dataframe tbody tr th:only-of-type {\n",
       "        vertical-align: middle;\n",
       "    }\n",
       "\n",
       "    .dataframe tbody tr th {\n",
       "        vertical-align: top;\n",
       "    }\n",
       "\n",
       "    .dataframe thead th {\n",
       "        text-align: right;\n",
       "    }\n",
       "</style>\n",
       "<table border=\"1\" class=\"dataframe\">\n",
       "  <thead>\n",
       "    <tr style=\"text-align: right;\">\n",
       "      <th></th>\n",
       "      <th>date</th>\n",
       "      <th>positive</th>\n",
       "      <th>negative</th>\n",
       "      <th>death</th>\n",
       "      <th>hospitalized</th>\n",
       "      <th>deathIncrease</th>\n",
       "      <th>hospitalizedIncrease</th>\n",
       "      <th>positiveIncrease</th>\n",
       "    </tr>\n",
       "  </thead>\n",
       "  <tbody>\n",
       "    <tr>\n",
       "      <td>97</td>\n",
       "      <td>20201130</td>\n",
       "      <td>13541108.0</td>\n",
       "      <td>50500626.0</td>\n",
       "      <td>259690.0</td>\n",
       "      <td>457619.0</td>\n",
       "      <td>1037</td>\n",
       "      <td>3394</td>\n",
       "      <td>150031</td>\n",
       "    </tr>\n",
       "    <tr>\n",
       "      <td>98</td>\n",
       "      <td>20201129</td>\n",
       "      <td>13391077.0</td>\n",
       "      <td>50156395.0</td>\n",
       "      <td>258653.0</td>\n",
       "      <td>454225.0</td>\n",
       "      <td>825</td>\n",
       "      <td>2429</td>\n",
       "      <td>137254</td>\n",
       "    </tr>\n",
       "    <tr>\n",
       "      <td>99</td>\n",
       "      <td>20201128</td>\n",
       "      <td>13253823.0</td>\n",
       "      <td>49929607.0</td>\n",
       "      <td>257828.0</td>\n",
       "      <td>451796.0</td>\n",
       "      <td>1243</td>\n",
       "      <td>3485</td>\n",
       "      <td>151469</td>\n",
       "    </tr>\n",
       "    <tr>\n",
       "      <td>100</td>\n",
       "      <td>20201127</td>\n",
       "      <td>13102354.0</td>\n",
       "      <td>49605194.0</td>\n",
       "      <td>256585.0</td>\n",
       "      <td>448311.0</td>\n",
       "      <td>1404</td>\n",
       "      <td>3418</td>\n",
       "      <td>198874</td>\n",
       "    </tr>\n",
       "    <tr>\n",
       "      <td>101</td>\n",
       "      <td>20201126</td>\n",
       "      <td>12903480.0</td>\n",
       "      <td>49220614.0</td>\n",
       "      <td>255181.0</td>\n",
       "      <td>444893.0</td>\n",
       "      <td>1392</td>\n",
       "      <td>2333</td>\n",
       "      <td>129764</td>\n",
       "    </tr>\n",
       "    <tr>\n",
       "      <td>102</td>\n",
       "      <td>20201125</td>\n",
       "      <td>12773716.0</td>\n",
       "      <td>49040673.0</td>\n",
       "      <td>253789.0</td>\n",
       "      <td>442560.0</td>\n",
       "      <td>2281</td>\n",
       "      <td>4538</td>\n",
       "      <td>188496</td>\n",
       "    </tr>\n",
       "    <tr>\n",
       "      <td>103</td>\n",
       "      <td>20201124</td>\n",
       "      <td>12585220.0</td>\n",
       "      <td>48646508.0</td>\n",
       "      <td>251508.0</td>\n",
       "      <td>438022.0</td>\n",
       "      <td>2091</td>\n",
       "      <td>4685</td>\n",
       "      <td>166503</td>\n",
       "    </tr>\n",
       "    <tr>\n",
       "      <td>104</td>\n",
       "      <td>20201123</td>\n",
       "      <td>12418717.0</td>\n",
       "      <td>48285922.0</td>\n",
       "      <td>249417.0</td>\n",
       "      <td>433337.0</td>\n",
       "      <td>853</td>\n",
       "      <td>2835</td>\n",
       "      <td>154696</td>\n",
       "    </tr>\n",
       "    <tr>\n",
       "      <td>105</td>\n",
       "      <td>20201122</td>\n",
       "      <td>12264021.0</td>\n",
       "      <td>47954715.0</td>\n",
       "      <td>248564.0</td>\n",
       "      <td>430502.0</td>\n",
       "      <td>923</td>\n",
       "      <td>2291</td>\n",
       "      <td>154188</td>\n",
       "    </tr>\n",
       "    <tr>\n",
       "      <td>106</td>\n",
       "      <td>20201121</td>\n",
       "      <td>12109833.0</td>\n",
       "      <td>47580860.0</td>\n",
       "      <td>247641.0</td>\n",
       "      <td>428211.0</td>\n",
       "      <td>1551</td>\n",
       "      <td>3375</td>\n",
       "      <td>186385</td>\n",
       "    </tr>\n",
       "  </tbody>\n",
       "</table>\n",
       "</div>"
      ],
      "text/plain": [
       "         date    positive    negative     death  hospitalized  deathIncrease  \\\n",
       "97   20201130  13541108.0  50500626.0  259690.0      457619.0           1037   \n",
       "98   20201129  13391077.0  50156395.0  258653.0      454225.0            825   \n",
       "99   20201128  13253823.0  49929607.0  257828.0      451796.0           1243   \n",
       "100  20201127  13102354.0  49605194.0  256585.0      448311.0           1404   \n",
       "101  20201126  12903480.0  49220614.0  255181.0      444893.0           1392   \n",
       "102  20201125  12773716.0  49040673.0  253789.0      442560.0           2281   \n",
       "103  20201124  12585220.0  48646508.0  251508.0      438022.0           2091   \n",
       "104  20201123  12418717.0  48285922.0  249417.0      433337.0            853   \n",
       "105  20201122  12264021.0  47954715.0  248564.0      430502.0            923   \n",
       "106  20201121  12109833.0  47580860.0  247641.0      428211.0           1551   \n",
       "\n",
       "     hospitalizedIncrease  positiveIncrease  \n",
       "97                   3394            150031  \n",
       "98                   2429            137254  \n",
       "99                   3485            151469  \n",
       "100                  3418            198874  \n",
       "101                  2333            129764  \n",
       "102                  4538            188496  \n",
       "103                  4685            166503  \n",
       "104                  2835            154696  \n",
       "105                  2291            154188  \n",
       "106                  3375            186385  "
      ]
     },
     "execution_count": 163,
     "metadata": {},
     "output_type": "execute_result"
    }
   ],
   "source": [
    "#data from April 1st to Nov 3oth\n",
    "\n",
    "\n",
    "data = pd.read_csv(\"https://api.covidtracking.com/v1/us/daily.csv\")\n",
    "data.drop([\"states\", \"dateChecked\", \"lastModified\", \"posNeg\", \"total\", \"hash\", \"inIcuCurrently\", \"inIcuCumulative\", \n",
    "                     \"onVentilatorCurrently\", \"totalTestResultsIncrease\", \"onVentilatorCumulative\", \"recovered\", \"totalTestResults\", \n",
    "                     \"negativeIncrease\", \"pending\", \"hospitalizedCurrently\", \"hospitalizedCumulative\"], axis=1, inplace=True)\n",
    "covid_data = data[(data['date'] >= 20200401) & (data['date'] <= 20201130)]\n",
    "covid_data.shift(periods=-17)\n",
    "covid_data.reset_index()\n",
    "covid_data.head(10)"
   ]
  },
  {
   "cell_type": "code",
   "execution_count": 164,
   "metadata": {},
   "outputs": [
    {
     "data": {
      "text/html": [
       "<div>\n",
       "<style scoped>\n",
       "    .dataframe tbody tr th:only-of-type {\n",
       "        vertical-align: middle;\n",
       "    }\n",
       "\n",
       "    .dataframe tbody tr th {\n",
       "        vertical-align: top;\n",
       "    }\n",
       "\n",
       "    .dataframe thead th {\n",
       "        text-align: right;\n",
       "    }\n",
       "</style>\n",
       "<table border=\"1\" class=\"dataframe\">\n",
       "  <thead>\n",
       "    <tr style=\"text-align: right;\">\n",
       "      <th></th>\n",
       "      <th>date</th>\n",
       "      <th>positive</th>\n",
       "      <th>negative</th>\n",
       "      <th>death</th>\n",
       "      <th>hospitalized</th>\n",
       "      <th>deathIncrease</th>\n",
       "      <th>hospitalizedIncrease</th>\n",
       "      <th>positiveIncrease</th>\n",
       "    </tr>\n",
       "  </thead>\n",
       "  <tbody>\n",
       "    <tr>\n",
       "      <td>0</td>\n",
       "      <td>20210307</td>\n",
       "      <td>28756489.0</td>\n",
       "      <td>74582825.0</td>\n",
       "      <td>515151.0</td>\n",
       "      <td>776361.0</td>\n",
       "      <td>842</td>\n",
       "      <td>726</td>\n",
       "      <td>41835</td>\n",
       "    </tr>\n",
       "    <tr>\n",
       "      <td>1</td>\n",
       "      <td>20210306</td>\n",
       "      <td>28714654.0</td>\n",
       "      <td>74450990.0</td>\n",
       "      <td>514309.0</td>\n",
       "      <td>775635.0</td>\n",
       "      <td>1680</td>\n",
       "      <td>503</td>\n",
       "      <td>60015</td>\n",
       "    </tr>\n",
       "    <tr>\n",
       "      <td>2</td>\n",
       "      <td>20210305</td>\n",
       "      <td>28654639.0</td>\n",
       "      <td>74307155.0</td>\n",
       "      <td>512629.0</td>\n",
       "      <td>775132.0</td>\n",
       "      <td>2221</td>\n",
       "      <td>2781</td>\n",
       "      <td>68787</td>\n",
       "    </tr>\n",
       "    <tr>\n",
       "      <td>3</td>\n",
       "      <td>20210304</td>\n",
       "      <td>28585852.0</td>\n",
       "      <td>74035238.0</td>\n",
       "      <td>510408.0</td>\n",
       "      <td>772351.0</td>\n",
       "      <td>1743</td>\n",
       "      <td>1530</td>\n",
       "      <td>65487</td>\n",
       "    </tr>\n",
       "    <tr>\n",
       "      <td>4</td>\n",
       "      <td>20210303</td>\n",
       "      <td>28520365.0</td>\n",
       "      <td>73857281.0</td>\n",
       "      <td>508665.0</td>\n",
       "      <td>770821.0</td>\n",
       "      <td>2449</td>\n",
       "      <td>2172</td>\n",
       "      <td>66836</td>\n",
       "    </tr>\n",
       "    <tr>\n",
       "      <td>5</td>\n",
       "      <td>20210302</td>\n",
       "      <td>28453529.0</td>\n",
       "      <td>73590280.0</td>\n",
       "      <td>506216.0</td>\n",
       "      <td>768649.0</td>\n",
       "      <td>1728</td>\n",
       "      <td>1871</td>\n",
       "      <td>54248</td>\n",
       "    </tr>\n",
       "    <tr>\n",
       "      <td>6</td>\n",
       "      <td>20210301</td>\n",
       "      <td>28399281.0</td>\n",
       "      <td>73334501.0</td>\n",
       "      <td>504488.0</td>\n",
       "      <td>766778.0</td>\n",
       "      <td>1241</td>\n",
       "      <td>1024</td>\n",
       "      <td>48092</td>\n",
       "    </tr>\n",
       "    <tr>\n",
       "      <td>7</td>\n",
       "      <td>20210228</td>\n",
       "      <td>28351189.0</td>\n",
       "      <td>73216424.0</td>\n",
       "      <td>503247.0</td>\n",
       "      <td>765754.0</td>\n",
       "      <td>1051</td>\n",
       "      <td>879</td>\n",
       "      <td>54349</td>\n",
       "    </tr>\n",
       "    <tr>\n",
       "      <td>8</td>\n",
       "      <td>20210227</td>\n",
       "      <td>28296840.0</td>\n",
       "      <td>73012825.0</td>\n",
       "      <td>502196.0</td>\n",
       "      <td>764875.0</td>\n",
       "      <td>1847</td>\n",
       "      <td>1428</td>\n",
       "      <td>71245</td>\n",
       "    </tr>\n",
       "    <tr>\n",
       "      <td>9</td>\n",
       "      <td>20210226</td>\n",
       "      <td>28225595.0</td>\n",
       "      <td>72807735.0</td>\n",
       "      <td>500349.0</td>\n",
       "      <td>763447.0</td>\n",
       "      <td>2141</td>\n",
       "      <td>1868</td>\n",
       "      <td>74857</td>\n",
       "    </tr>\n",
       "    <tr>\n",
       "      <td>10</td>\n",
       "      <td>20210225</td>\n",
       "      <td>28150738.0</td>\n",
       "      <td>72530906.0</td>\n",
       "      <td>498208.0</td>\n",
       "      <td>761579.0</td>\n",
       "      <td>3138</td>\n",
       "      <td>2047</td>\n",
       "      <td>75565</td>\n",
       "    </tr>\n",
       "    <tr>\n",
       "      <td>11</td>\n",
       "      <td>20210224</td>\n",
       "      <td>28075173.0</td>\n",
       "      <td>72258697.0</td>\n",
       "      <td>495070.0</td>\n",
       "      <td>759532.0</td>\n",
       "      <td>2447</td>\n",
       "      <td>2172</td>\n",
       "      <td>73258</td>\n",
       "    </tr>\n",
       "    <tr>\n",
       "      <td>12</td>\n",
       "      <td>20210223</td>\n",
       "      <td>28001915.0</td>\n",
       "      <td>72013379.0</td>\n",
       "      <td>492623.0</td>\n",
       "      <td>757360.0</td>\n",
       "      <td>2241</td>\n",
       "      <td>2164</td>\n",
       "      <td>69105</td>\n",
       "    </tr>\n",
       "    <tr>\n",
       "      <td>13</td>\n",
       "      <td>20210222</td>\n",
       "      <td>27932810.0</td>\n",
       "      <td>71788112.0</td>\n",
       "      <td>490382.0</td>\n",
       "      <td>755196.0</td>\n",
       "      <td>1235</td>\n",
       "      <td>1305</td>\n",
       "      <td>52530</td>\n",
       "    </tr>\n",
       "    <tr>\n",
       "      <td>14</td>\n",
       "      <td>20210221</td>\n",
       "      <td>27880280.0</td>\n",
       "      <td>71664501.0</td>\n",
       "      <td>489147.0</td>\n",
       "      <td>753891.0</td>\n",
       "      <td>1287</td>\n",
       "      <td>997</td>\n",
       "      <td>58702</td>\n",
       "    </tr>\n",
       "  </tbody>\n",
       "</table>\n",
       "</div>"
      ],
      "text/plain": [
       "        date    positive    negative     death  hospitalized  deathIncrease  \\\n",
       "0   20210307  28756489.0  74582825.0  515151.0      776361.0            842   \n",
       "1   20210306  28714654.0  74450990.0  514309.0      775635.0           1680   \n",
       "2   20210305  28654639.0  74307155.0  512629.0      775132.0           2221   \n",
       "3   20210304  28585852.0  74035238.0  510408.0      772351.0           1743   \n",
       "4   20210303  28520365.0  73857281.0  508665.0      770821.0           2449   \n",
       "5   20210302  28453529.0  73590280.0  506216.0      768649.0           1728   \n",
       "6   20210301  28399281.0  73334501.0  504488.0      766778.0           1241   \n",
       "7   20210228  28351189.0  73216424.0  503247.0      765754.0           1051   \n",
       "8   20210227  28296840.0  73012825.0  502196.0      764875.0           1847   \n",
       "9   20210226  28225595.0  72807735.0  500349.0      763447.0           2141   \n",
       "10  20210225  28150738.0  72530906.0  498208.0      761579.0           3138   \n",
       "11  20210224  28075173.0  72258697.0  495070.0      759532.0           2447   \n",
       "12  20210223  28001915.0  72013379.0  492623.0      757360.0           2241   \n",
       "13  20210222  27932810.0  71788112.0  490382.0      755196.0           1235   \n",
       "14  20210221  27880280.0  71664501.0  489147.0      753891.0           1287   \n",
       "\n",
       "    hospitalizedIncrease  positiveIncrease  \n",
       "0                    726             41835  \n",
       "1                    503             60015  \n",
       "2                   2781             68787  \n",
       "3                   1530             65487  \n",
       "4                   2172             66836  \n",
       "5                   1871             54248  \n",
       "6                   1024             48092  \n",
       "7                    879             54349  \n",
       "8                   1428             71245  \n",
       "9                   1868             74857  \n",
       "10                  2047             75565  \n",
       "11                  2172             73258  \n",
       "12                  2164             69105  \n",
       "13                  1305             52530  \n",
       "14                   997             58702  "
      ]
     },
     "execution_count": 164,
     "metadata": {},
     "output_type": "execute_result"
    }
   ],
   "source": [
    "#Data from 14th December to 7th March\n",
    "data1 = pd.read_csv(\"https://api.covidtracking.com/v1/us/daily.csv\")\n",
    "data1.drop([\"states\", \"dateChecked\", \"lastModified\", \"posNeg\", \"total\", \"hash\", \"inIcuCurrently\", \"inIcuCumulative\", \n",
    "                     \"onVentilatorCurrently\", \"totalTestResultsIncrease\", \"onVentilatorCumulative\", \"recovered\", \"totalTestResults\", \n",
    "                     \"negativeIncrease\", \"pending\", \"hospitalizedCurrently\", \"hospitalizedCumulative\"], axis=1, inplace=True)\n",
    "covid_data1 = data1[(data1['date'] >= 20201214) & (data1['date'] <= 20210307)]\n",
    "covid_data1.shift(periods=-17)\n",
    "covid_data1.reset_index()\n",
    "covid_data1.head(15)"
   ]
  },
  {
   "cell_type": "code",
   "execution_count": 165,
   "metadata": {},
   "outputs": [
    {
     "data": {
      "text/html": [
       "<div>\n",
       "<style scoped>\n",
       "    .dataframe tbody tr th:only-of-type {\n",
       "        vertical-align: middle;\n",
       "    }\n",
       "\n",
       "    .dataframe tbody tr th {\n",
       "        vertical-align: top;\n",
       "    }\n",
       "\n",
       "    .dataframe thead th {\n",
       "        text-align: right;\n",
       "    }\n",
       "</style>\n",
       "<table border=\"1\" class=\"dataframe\">\n",
       "  <thead>\n",
       "    <tr style=\"text-align: right;\">\n",
       "      <th></th>\n",
       "      <th>date</th>\n",
       "      <th>state</th>\n",
       "      <th>positive</th>\n",
       "      <th>negative</th>\n",
       "      <th>hospitalizedCurrently</th>\n",
       "      <th>hospitalizedCumulative</th>\n",
       "      <th>death</th>\n",
       "      <th>hospitalized</th>\n",
       "      <th>hospitalizedDischarged</th>\n",
       "      <th>deathConfirmed</th>\n",
       "      <th>positiveIncrease</th>\n",
       "      <th>negativeIncrease</th>\n",
       "      <th>totalTestResultsIncrease</th>\n",
       "      <th>deathIncrease</th>\n",
       "      <th>hospitalizedIncrease</th>\n",
       "    </tr>\n",
       "  </thead>\n",
       "  <tbody>\n",
       "    <tr>\n",
       "      <td>5432</td>\n",
       "      <td>20201130</td>\n",
       "      <td>AK</td>\n",
       "      <td>31323.0</td>\n",
       "      <td>0.0</td>\n",
       "      <td>162.0</td>\n",
       "      <td>725.0</td>\n",
       "      <td>121.0</td>\n",
       "      <td>725.0</td>\n",
       "      <td>0.0</td>\n",
       "      <td>121.0</td>\n",
       "      <td>507</td>\n",
       "      <td>0</td>\n",
       "      <td>5216</td>\n",
       "      <td>0</td>\n",
       "      <td>3</td>\n",
       "    </tr>\n",
       "    <tr>\n",
       "      <td>5433</td>\n",
       "      <td>20201130</td>\n",
       "      <td>AL</td>\n",
       "      <td>249524.0</td>\n",
       "      <td>1376324.0</td>\n",
       "      <td>1717.0</td>\n",
       "      <td>25338.0</td>\n",
       "      <td>3578.0</td>\n",
       "      <td>25338.0</td>\n",
       "      <td>0.0</td>\n",
       "      <td>3246.0</td>\n",
       "      <td>2295</td>\n",
       "      <td>2554</td>\n",
       "      <td>4634</td>\n",
       "      <td>1</td>\n",
       "      <td>668</td>\n",
       "    </tr>\n",
       "    <tr>\n",
       "      <td>5434</td>\n",
       "      <td>20201130</td>\n",
       "      <td>AR</td>\n",
       "      <td>157359.0</td>\n",
       "      <td>1545401.0</td>\n",
       "      <td>1063.0</td>\n",
       "      <td>8937.0</td>\n",
       "      <td>2502.0</td>\n",
       "      <td>8937.0</td>\n",
       "      <td>0.0</td>\n",
       "      <td>2295.0</td>\n",
       "      <td>1112</td>\n",
       "      <td>6663</td>\n",
       "      <td>7629</td>\n",
       "      <td>32</td>\n",
       "      <td>94</td>\n",
       "    </tr>\n",
       "    <tr>\n",
       "      <td>5435</td>\n",
       "      <td>20201130</td>\n",
       "      <td>AS</td>\n",
       "      <td>0.0</td>\n",
       "      <td>1988.0</td>\n",
       "      <td>0.0</td>\n",
       "      <td>0.0</td>\n",
       "      <td>0.0</td>\n",
       "      <td>0.0</td>\n",
       "      <td>0.0</td>\n",
       "      <td>0.0</td>\n",
       "      <td>0</td>\n",
       "      <td>0</td>\n",
       "      <td>0</td>\n",
       "      <td>0</td>\n",
       "      <td>0</td>\n",
       "    </tr>\n",
       "    <tr>\n",
       "      <td>5436</td>\n",
       "      <td>20201130</td>\n",
       "      <td>AZ</td>\n",
       "      <td>326817.0</td>\n",
       "      <td>1936949.0</td>\n",
       "      <td>2513.0</td>\n",
       "      <td>25786.0</td>\n",
       "      <td>6639.0</td>\n",
       "      <td>25786.0</td>\n",
       "      <td>52438.0</td>\n",
       "      <td>6152.0</td>\n",
       "      <td>822</td>\n",
       "      <td>16630</td>\n",
       "      <td>22500</td>\n",
       "      <td>5</td>\n",
       "      <td>218</td>\n",
       "    </tr>\n",
       "    <tr>\n",
       "      <td>5437</td>\n",
       "      <td>20201130</td>\n",
       "      <td>CA</td>\n",
       "      <td>1212968.0</td>\n",
       "      <td>0.0</td>\n",
       "      <td>8578.0</td>\n",
       "      <td>0.0</td>\n",
       "      <td>19141.0</td>\n",
       "      <td>0.0</td>\n",
       "      <td>0.0</td>\n",
       "      <td>0.0</td>\n",
       "      <td>14034</td>\n",
       "      <td>0</td>\n",
       "      <td>217670</td>\n",
       "      <td>20</td>\n",
       "      <td>0</td>\n",
       "    </tr>\n",
       "    <tr>\n",
       "      <td>5438</td>\n",
       "      <td>20201130</td>\n",
       "      <td>CO</td>\n",
       "      <td>232905.0</td>\n",
       "      <td>1531344.0</td>\n",
       "      <td>1940.0</td>\n",
       "      <td>13488.0</td>\n",
       "      <td>3037.0</td>\n",
       "      <td>13488.0</td>\n",
       "      <td>12538.0</td>\n",
       "      <td>2561.0</td>\n",
       "      <td>4133</td>\n",
       "      <td>12038</td>\n",
       "      <td>43725</td>\n",
       "      <td>34</td>\n",
       "      <td>60</td>\n",
       "    </tr>\n",
       "    <tr>\n",
       "      <td>5439</td>\n",
       "      <td>20201130</td>\n",
       "      <td>CT</td>\n",
       "      <td>117295.0</td>\n",
       "      <td>0.0</td>\n",
       "      <td>1098.0</td>\n",
       "      <td>0.0</td>\n",
       "      <td>5020.0</td>\n",
       "      <td>0.0</td>\n",
       "      <td>0.0</td>\n",
       "      <td>4025.0</td>\n",
       "      <td>4714</td>\n",
       "      <td>0</td>\n",
       "      <td>13316</td>\n",
       "      <td>59</td>\n",
       "      <td>0</td>\n",
       "    </tr>\n",
       "    <tr>\n",
       "      <td>5440</td>\n",
       "      <td>20201130</td>\n",
       "      <td>DC</td>\n",
       "      <td>21552.0</td>\n",
       "      <td>0.0</td>\n",
       "      <td>158.0</td>\n",
       "      <td>0.0</td>\n",
       "      <td>680.0</td>\n",
       "      <td>0.0</td>\n",
       "      <td>0.0</td>\n",
       "      <td>0.0</td>\n",
       "      <td>104</td>\n",
       "      <td>0</td>\n",
       "      <td>4914</td>\n",
       "      <td>0</td>\n",
       "      <td>0</td>\n",
       "    </tr>\n",
       "    <tr>\n",
       "      <td>5441</td>\n",
       "      <td>20201130</td>\n",
       "      <td>DE</td>\n",
       "      <td>35654.0</td>\n",
       "      <td>388688.0</td>\n",
       "      <td>243.0</td>\n",
       "      <td>0.0</td>\n",
       "      <td>772.0</td>\n",
       "      <td>0.0</td>\n",
       "      <td>0.0</td>\n",
       "      <td>679.0</td>\n",
       "      <td>403</td>\n",
       "      <td>1555</td>\n",
       "      <td>10970</td>\n",
       "      <td>2</td>\n",
       "      <td>0</td>\n",
       "    </tr>\n",
       "    <tr>\n",
       "      <td>5442</td>\n",
       "      <td>20201130</td>\n",
       "      <td>FL</td>\n",
       "      <td>983370.0</td>\n",
       "      <td>6256432.0</td>\n",
       "      <td>4159.0</td>\n",
       "      <td>55554.0</td>\n",
       "      <td>18834.0</td>\n",
       "      <td>55554.0</td>\n",
       "      <td>0.0</td>\n",
       "      <td>0.0</td>\n",
       "      <td>6426</td>\n",
       "      <td>29041</td>\n",
       "      <td>71417</td>\n",
       "      <td>98</td>\n",
       "      <td>161</td>\n",
       "    </tr>\n",
       "    <tr>\n",
       "      <td>5443</td>\n",
       "      <td>20201130</td>\n",
       "      <td>GA</td>\n",
       "      <td>471563.0</td>\n",
       "      <td>0.0</td>\n",
       "      <td>2574.0</td>\n",
       "      <td>34824.0</td>\n",
       "      <td>9452.0</td>\n",
       "      <td>34824.0</td>\n",
       "      <td>0.0</td>\n",
       "      <td>8778.0</td>\n",
       "      <td>2047</td>\n",
       "      <td>0</td>\n",
       "      <td>11521</td>\n",
       "      <td>10</td>\n",
       "      <td>42</td>\n",
       "    </tr>\n",
       "    <tr>\n",
       "      <td>5444</td>\n",
       "      <td>20201130</td>\n",
       "      <td>GU</td>\n",
       "      <td>6852.0</td>\n",
       "      <td>77567.0</td>\n",
       "      <td>47.0</td>\n",
       "      <td>0.0</td>\n",
       "      <td>112.0</td>\n",
       "      <td>0.0</td>\n",
       "      <td>0.0</td>\n",
       "      <td>0.0</td>\n",
       "      <td>34</td>\n",
       "      <td>1134</td>\n",
       "      <td>1168</td>\n",
       "      <td>0</td>\n",
       "      <td>0</td>\n",
       "    </tr>\n",
       "    <tr>\n",
       "      <td>5445</td>\n",
       "      <td>20201130</td>\n",
       "      <td>HI</td>\n",
       "      <td>18223.0</td>\n",
       "      <td>0.0</td>\n",
       "      <td>60.0</td>\n",
       "      <td>1287.0</td>\n",
       "      <td>244.0</td>\n",
       "      <td>1287.0</td>\n",
       "      <td>0.0</td>\n",
       "      <td>244.0</td>\n",
       "      <td>85</td>\n",
       "      <td>0</td>\n",
       "      <td>4525</td>\n",
       "      <td>0</td>\n",
       "      <td>0</td>\n",
       "    </tr>\n",
       "    <tr>\n",
       "      <td>5446</td>\n",
       "      <td>20201130</td>\n",
       "      <td>IA</td>\n",
       "      <td>202410.0</td>\n",
       "      <td>868406.0</td>\n",
       "      <td>1162.0</td>\n",
       "      <td>0.0</td>\n",
       "      <td>2403.0</td>\n",
       "      <td>0.0</td>\n",
       "      <td>0.0</td>\n",
       "      <td>0.0</td>\n",
       "      <td>1143</td>\n",
       "      <td>1688</td>\n",
       "      <td>2831</td>\n",
       "      <td>36</td>\n",
       "      <td>0</td>\n",
       "    </tr>\n",
       "  </tbody>\n",
       "</table>\n",
       "</div>"
      ],
      "text/plain": [
       "          date state   positive   negative  hospitalizedCurrently  \\\n",
       "5432  20201130    AK    31323.0        0.0                  162.0   \n",
       "5433  20201130    AL   249524.0  1376324.0                 1717.0   \n",
       "5434  20201130    AR   157359.0  1545401.0                 1063.0   \n",
       "5435  20201130    AS        0.0     1988.0                    0.0   \n",
       "5436  20201130    AZ   326817.0  1936949.0                 2513.0   \n",
       "5437  20201130    CA  1212968.0        0.0                 8578.0   \n",
       "5438  20201130    CO   232905.0  1531344.0                 1940.0   \n",
       "5439  20201130    CT   117295.0        0.0                 1098.0   \n",
       "5440  20201130    DC    21552.0        0.0                  158.0   \n",
       "5441  20201130    DE    35654.0   388688.0                  243.0   \n",
       "5442  20201130    FL   983370.0  6256432.0                 4159.0   \n",
       "5443  20201130    GA   471563.0        0.0                 2574.0   \n",
       "5444  20201130    GU     6852.0    77567.0                   47.0   \n",
       "5445  20201130    HI    18223.0        0.0                   60.0   \n",
       "5446  20201130    IA   202410.0   868406.0                 1162.0   \n",
       "\n",
       "      hospitalizedCumulative    death  hospitalized  hospitalizedDischarged  \\\n",
       "5432                   725.0    121.0         725.0                     0.0   \n",
       "5433                 25338.0   3578.0       25338.0                     0.0   \n",
       "5434                  8937.0   2502.0        8937.0                     0.0   \n",
       "5435                     0.0      0.0           0.0                     0.0   \n",
       "5436                 25786.0   6639.0       25786.0                 52438.0   \n",
       "5437                     0.0  19141.0           0.0                     0.0   \n",
       "5438                 13488.0   3037.0       13488.0                 12538.0   \n",
       "5439                     0.0   5020.0           0.0                     0.0   \n",
       "5440                     0.0    680.0           0.0                     0.0   \n",
       "5441                     0.0    772.0           0.0                     0.0   \n",
       "5442                 55554.0  18834.0       55554.0                     0.0   \n",
       "5443                 34824.0   9452.0       34824.0                     0.0   \n",
       "5444                     0.0    112.0           0.0                     0.0   \n",
       "5445                  1287.0    244.0        1287.0                     0.0   \n",
       "5446                     0.0   2403.0           0.0                     0.0   \n",
       "\n",
       "      deathConfirmed  positiveIncrease  negativeIncrease  \\\n",
       "5432           121.0               507                 0   \n",
       "5433          3246.0              2295              2554   \n",
       "5434          2295.0              1112              6663   \n",
       "5435             0.0                 0                 0   \n",
       "5436          6152.0               822             16630   \n",
       "5437             0.0             14034                 0   \n",
       "5438          2561.0              4133             12038   \n",
       "5439          4025.0              4714                 0   \n",
       "5440             0.0               104                 0   \n",
       "5441           679.0               403              1555   \n",
       "5442             0.0              6426             29041   \n",
       "5443          8778.0              2047                 0   \n",
       "5444             0.0                34              1134   \n",
       "5445           244.0                85                 0   \n",
       "5446             0.0              1143              1688   \n",
       "\n",
       "      totalTestResultsIncrease  deathIncrease  hospitalizedIncrease  \n",
       "5432                      5216              0                     3  \n",
       "5433                      4634              1                   668  \n",
       "5434                      7629             32                    94  \n",
       "5435                         0              0                     0  \n",
       "5436                     22500              5                   218  \n",
       "5437                    217670             20                     0  \n",
       "5438                     43725             34                    60  \n",
       "5439                     13316             59                     0  \n",
       "5440                      4914              0                     0  \n",
       "5441                     10970              2                     0  \n",
       "5442                     71417             98                   161  \n",
       "5443                     11521             10                    42  \n",
       "5444                      1168              0                     0  \n",
       "5445                      4525              0                     0  \n",
       "5446                      2831             36                     0  "
      ]
     },
     "execution_count": 165,
     "metadata": {},
     "output_type": "execute_result"
    }
   ],
   "source": [
    "# State data from April 4th to Nov 30th.\n",
    "state_data = pd.read_csv(\"https://api.covidtracking.com/v1/states/daily.csv\")\n",
    "state_data.drop([\"dateChecked\", \"pending\", \"posNeg\", \"total\", \"lastUpdateEt\", \"dateModified\", \"checkTimeEt\", \"hash\", \"grade\", \"score\", \"positiveScore\", \"negativeScore\", \n",
    "                       \"negativeRegularScore\", \"commercialScore\", \"totalTestEncountersViral\", \"positiveTestsPeopleAntibody\", \n",
    "                       \"negativeTestsPeopleAntibody\", \"totalTestsPeopleAntigen\", \"totalTestsPeopleAntibody\", \"negativeTestsAntibody\", \n",
    "                       \"positiveTestsAntibody\", \"totalTestsAntibody\", \"totalTestsPeopleViral\", \"deathProbable\", \"inIcuCumulative\", \"probableCases\", \n",
    "                       \"totalTestResultsSource\", \"totalTestResults\",\"fips\",\"totalTestsAntigen\",\"positiveTestsAntigen\",\"positiveTestsPeopleAntigen\",\"dataQualityGrade\",\"inIcuCurrently\",\n",
    "                       \"onVentilatorCurrently\",\"onVentilatorCumulative\",\"recovered\",\"positiveTestsViral\", \"negativeTestsViral\",\"positiveCasesViral\",\"totalTestsViral\"], axis=1, inplace=True)\n",
    "state_data = state_data[(state_data['date'] >= 20200401) & (state_data['date'] <= 20201130)]\n",
    "\n",
    "state_data.fillna(value=0, inplace=True) # Replacing na values\n",
    "\n",
    "state_data.head(15) # First 15 rows"
   ]
  },
  {
   "cell_type": "code",
   "execution_count": 166,
   "metadata": {},
   "outputs": [
    {
     "data": {
      "text/html": [
       "<div>\n",
       "<style scoped>\n",
       "    .dataframe tbody tr th:only-of-type {\n",
       "        vertical-align: middle;\n",
       "    }\n",
       "\n",
       "    .dataframe tbody tr th {\n",
       "        vertical-align: top;\n",
       "    }\n",
       "\n",
       "    .dataframe thead th {\n",
       "        text-align: right;\n",
       "    }\n",
       "</style>\n",
       "<table border=\"1\" class=\"dataframe\">\n",
       "  <thead>\n",
       "    <tr style=\"text-align: right;\">\n",
       "      <th></th>\n",
       "      <th>date</th>\n",
       "      <th>state</th>\n",
       "      <th>positive</th>\n",
       "      <th>negative</th>\n",
       "      <th>hospitalizedCurrently</th>\n",
       "      <th>hospitalizedCumulative</th>\n",
       "      <th>death</th>\n",
       "      <th>hospitalized</th>\n",
       "      <th>hospitalizedDischarged</th>\n",
       "      <th>deathConfirmed</th>\n",
       "      <th>positiveIncrease</th>\n",
       "      <th>negativeIncrease</th>\n",
       "      <th>totalTestResultsIncrease</th>\n",
       "      <th>deathIncrease</th>\n",
       "      <th>hospitalizedIncrease</th>\n",
       "    </tr>\n",
       "  </thead>\n",
       "  <tbody>\n",
       "    <tr>\n",
       "      <td>3681</td>\n",
       "      <td>20210101</td>\n",
       "      <td>PA</td>\n",
       "      <td>648039.0</td>\n",
       "      <td>3275205.0</td>\n",
       "      <td>5624.0</td>\n",
       "      <td>0.0</td>\n",
       "      <td>16214.0</td>\n",
       "      <td>0.0</td>\n",
       "      <td>0.0</td>\n",
       "      <td>0.0</td>\n",
       "      <td>7714</td>\n",
       "      <td>10076</td>\n",
       "      <td>52987</td>\n",
       "      <td>236</td>\n",
       "      <td>0</td>\n",
       "    </tr>\n",
       "    <tr>\n",
       "      <td>3682</td>\n",
       "      <td>20210101</td>\n",
       "      <td>PR</td>\n",
       "      <td>77054.0</td>\n",
       "      <td>305972.0</td>\n",
       "      <td>432.0</td>\n",
       "      <td>0.0</td>\n",
       "      <td>1521.0</td>\n",
       "      <td>0.0</td>\n",
       "      <td>0.0</td>\n",
       "      <td>1257.0</td>\n",
       "      <td>763</td>\n",
       "      <td>0</td>\n",
       "      <td>763</td>\n",
       "      <td>18</td>\n",
       "      <td>0</td>\n",
       "    </tr>\n",
       "    <tr>\n",
       "      <td>3683</td>\n",
       "      <td>20210101</td>\n",
       "      <td>RI</td>\n",
       "      <td>90404.0</td>\n",
       "      <td>551028.0</td>\n",
       "      <td>426.0</td>\n",
       "      <td>6506.0</td>\n",
       "      <td>1823.0</td>\n",
       "      <td>6506.0</td>\n",
       "      <td>5381.0</td>\n",
       "      <td>0.0</td>\n",
       "      <td>863</td>\n",
       "      <td>2904</td>\n",
       "      <td>14674</td>\n",
       "      <td>14</td>\n",
       "      <td>0</td>\n",
       "    </tr>\n",
       "    <tr>\n",
       "      <td>3684</td>\n",
       "      <td>20210101</td>\n",
       "      <td>SC</td>\n",
       "      <td>307507.0</td>\n",
       "      <td>2865514.0</td>\n",
       "      <td>2025.0</td>\n",
       "      <td>14390.0</td>\n",
       "      <td>5296.0</td>\n",
       "      <td>14390.0</td>\n",
       "      <td>0.0</td>\n",
       "      <td>4885.0</td>\n",
       "      <td>0</td>\n",
       "      <td>0</td>\n",
       "      <td>0</td>\n",
       "      <td>0</td>\n",
       "      <td>0</td>\n",
       "    </tr>\n",
       "    <tr>\n",
       "      <td>3685</td>\n",
       "      <td>20210101</td>\n",
       "      <td>SD</td>\n",
       "      <td>99164.0</td>\n",
       "      <td>273476.0</td>\n",
       "      <td>297.0</td>\n",
       "      <td>5672.0</td>\n",
       "      <td>1488.0</td>\n",
       "      <td>5672.0</td>\n",
       "      <td>0.0</td>\n",
       "      <td>0.0</td>\n",
       "      <td>0</td>\n",
       "      <td>0</td>\n",
       "      <td>2410</td>\n",
       "      <td>0</td>\n",
       "      <td>0</td>\n",
       "    </tr>\n",
       "    <tr>\n",
       "      <td>3686</td>\n",
       "      <td>20210101</td>\n",
       "      <td>TN</td>\n",
       "      <td>586802.0</td>\n",
       "      <td>0.0</td>\n",
       "      <td>3378.0</td>\n",
       "      <td>14531.0</td>\n",
       "      <td>6907.0</td>\n",
       "      <td>14531.0</td>\n",
       "      <td>0.0</td>\n",
       "      <td>5990.0</td>\n",
       "      <td>0</td>\n",
       "      <td>0</td>\n",
       "      <td>36234</td>\n",
       "      <td>0</td>\n",
       "      <td>0</td>\n",
       "    </tr>\n",
       "    <tr>\n",
       "      <td>3687</td>\n",
       "      <td>20210101</td>\n",
       "      <td>TX</td>\n",
       "      <td>1772483.0</td>\n",
       "      <td>0.0</td>\n",
       "      <td>12481.0</td>\n",
       "      <td>0.0</td>\n",
       "      <td>27771.0</td>\n",
       "      <td>0.0</td>\n",
       "      <td>0.0</td>\n",
       "      <td>0.0</td>\n",
       "      <td>16311</td>\n",
       "      <td>0</td>\n",
       "      <td>105811</td>\n",
       "      <td>334</td>\n",
       "      <td>0</td>\n",
       "    </tr>\n",
       "    <tr>\n",
       "      <td>3688</td>\n",
       "      <td>20210101</td>\n",
       "      <td>UT</td>\n",
       "      <td>276612.0</td>\n",
       "      <td>1302491.0</td>\n",
       "      <td>565.0</td>\n",
       "      <td>10956.0</td>\n",
       "      <td>1269.0</td>\n",
       "      <td>10956.0</td>\n",
       "      <td>0.0</td>\n",
       "      <td>0.0</td>\n",
       "      <td>0</td>\n",
       "      <td>0</td>\n",
       "      <td>0</td>\n",
       "      <td>0</td>\n",
       "      <td>0</td>\n",
       "    </tr>\n",
       "    <tr>\n",
       "      <td>3689</td>\n",
       "      <td>20210101</td>\n",
       "      <td>VA</td>\n",
       "      <td>354766.0</td>\n",
       "      <td>0.0</td>\n",
       "      <td>2754.0</td>\n",
       "      <td>18166.0</td>\n",
       "      <td>5081.0</td>\n",
       "      <td>18166.0</td>\n",
       "      <td>30964.0</td>\n",
       "      <td>4478.0</td>\n",
       "      <td>5182</td>\n",
       "      <td>0</td>\n",
       "      <td>35329</td>\n",
       "      <td>49</td>\n",
       "      <td>125</td>\n",
       "    </tr>\n",
       "    <tr>\n",
       "      <td>3690</td>\n",
       "      <td>20210101</td>\n",
       "      <td>VI</td>\n",
       "      <td>2036.0</td>\n",
       "      <td>34176.0</td>\n",
       "      <td>0.0</td>\n",
       "      <td>0.0</td>\n",
       "      <td>23.0</td>\n",
       "      <td>0.0</td>\n",
       "      <td>0.0</td>\n",
       "      <td>0.0</td>\n",
       "      <td>5</td>\n",
       "      <td>37</td>\n",
       "      <td>42</td>\n",
       "      <td>0</td>\n",
       "      <td>0</td>\n",
       "    </tr>\n",
       "    <tr>\n",
       "      <td>3691</td>\n",
       "      <td>20210101</td>\n",
       "      <td>VT</td>\n",
       "      <td>7412.0</td>\n",
       "      <td>255684.0</td>\n",
       "      <td>31.0</td>\n",
       "      <td>0.0</td>\n",
       "      <td>136.0</td>\n",
       "      <td>0.0</td>\n",
       "      <td>0.0</td>\n",
       "      <td>136.0</td>\n",
       "      <td>0</td>\n",
       "      <td>0</td>\n",
       "      <td>0</td>\n",
       "      <td>0</td>\n",
       "      <td>0</td>\n",
       "    </tr>\n",
       "    <tr>\n",
       "      <td>3692</td>\n",
       "      <td>20210101</td>\n",
       "      <td>WA</td>\n",
       "      <td>246752.0</td>\n",
       "      <td>0.0</td>\n",
       "      <td>1138.0</td>\n",
       "      <td>14748.0</td>\n",
       "      <td>3461.0</td>\n",
       "      <td>14748.0</td>\n",
       "      <td>0.0</td>\n",
       "      <td>0.0</td>\n",
       "      <td>4422</td>\n",
       "      <td>0</td>\n",
       "      <td>31430</td>\n",
       "      <td>41</td>\n",
       "      <td>177</td>\n",
       "    </tr>\n",
       "    <tr>\n",
       "      <td>3693</td>\n",
       "      <td>20210101</td>\n",
       "      <td>WI</td>\n",
       "      <td>522523.0</td>\n",
       "      <td>2357057.0</td>\n",
       "      <td>1074.0</td>\n",
       "      <td>21400.0</td>\n",
       "      <td>5254.0</td>\n",
       "      <td>21400.0</td>\n",
       "      <td>0.0</td>\n",
       "      <td>4869.0</td>\n",
       "      <td>2085</td>\n",
       "      <td>6388</td>\n",
       "      <td>32340</td>\n",
       "      <td>12</td>\n",
       "      <td>50</td>\n",
       "    </tr>\n",
       "    <tr>\n",
       "      <td>3694</td>\n",
       "      <td>20210101</td>\n",
       "      <td>WV</td>\n",
       "      <td>87820.0</td>\n",
       "      <td>0.0</td>\n",
       "      <td>809.0</td>\n",
       "      <td>0.0</td>\n",
       "      <td>1361.0</td>\n",
       "      <td>0.0</td>\n",
       "      <td>0.0</td>\n",
       "      <td>1210.0</td>\n",
       "      <td>2486</td>\n",
       "      <td>0</td>\n",
       "      <td>21741</td>\n",
       "      <td>23</td>\n",
       "      <td>0</td>\n",
       "    </tr>\n",
       "    <tr>\n",
       "      <td>3695</td>\n",
       "      <td>20210101</td>\n",
       "      <td>WY</td>\n",
       "      <td>44409.0</td>\n",
       "      <td>159528.0</td>\n",
       "      <td>113.0</td>\n",
       "      <td>1102.0</td>\n",
       "      <td>438.0</td>\n",
       "      <td>1102.0</td>\n",
       "      <td>0.0</td>\n",
       "      <td>0.0</td>\n",
       "      <td>0</td>\n",
       "      <td>0</td>\n",
       "      <td>0</td>\n",
       "      <td>0</td>\n",
       "      <td>0</td>\n",
       "    </tr>\n",
       "  </tbody>\n",
       "</table>\n",
       "</div>"
      ],
      "text/plain": [
       "          date state   positive   negative  hospitalizedCurrently  \\\n",
       "3681  20210101    PA   648039.0  3275205.0                 5624.0   \n",
       "3682  20210101    PR    77054.0   305972.0                  432.0   \n",
       "3683  20210101    RI    90404.0   551028.0                  426.0   \n",
       "3684  20210101    SC   307507.0  2865514.0                 2025.0   \n",
       "3685  20210101    SD    99164.0   273476.0                  297.0   \n",
       "3686  20210101    TN   586802.0        0.0                 3378.0   \n",
       "3687  20210101    TX  1772483.0        0.0                12481.0   \n",
       "3688  20210101    UT   276612.0  1302491.0                  565.0   \n",
       "3689  20210101    VA   354766.0        0.0                 2754.0   \n",
       "3690  20210101    VI     2036.0    34176.0                    0.0   \n",
       "3691  20210101    VT     7412.0   255684.0                   31.0   \n",
       "3692  20210101    WA   246752.0        0.0                 1138.0   \n",
       "3693  20210101    WI   522523.0  2357057.0                 1074.0   \n",
       "3694  20210101    WV    87820.0        0.0                  809.0   \n",
       "3695  20210101    WY    44409.0   159528.0                  113.0   \n",
       "\n",
       "      hospitalizedCumulative    death  hospitalized  hospitalizedDischarged  \\\n",
       "3681                     0.0  16214.0           0.0                     0.0   \n",
       "3682                     0.0   1521.0           0.0                     0.0   \n",
       "3683                  6506.0   1823.0        6506.0                  5381.0   \n",
       "3684                 14390.0   5296.0       14390.0                     0.0   \n",
       "3685                  5672.0   1488.0        5672.0                     0.0   \n",
       "3686                 14531.0   6907.0       14531.0                     0.0   \n",
       "3687                     0.0  27771.0           0.0                     0.0   \n",
       "3688                 10956.0   1269.0       10956.0                     0.0   \n",
       "3689                 18166.0   5081.0       18166.0                 30964.0   \n",
       "3690                     0.0     23.0           0.0                     0.0   \n",
       "3691                     0.0    136.0           0.0                     0.0   \n",
       "3692                 14748.0   3461.0       14748.0                     0.0   \n",
       "3693                 21400.0   5254.0       21400.0                     0.0   \n",
       "3694                     0.0   1361.0           0.0                     0.0   \n",
       "3695                  1102.0    438.0        1102.0                     0.0   \n",
       "\n",
       "      deathConfirmed  positiveIncrease  negativeIncrease  \\\n",
       "3681             0.0              7714             10076   \n",
       "3682          1257.0               763                 0   \n",
       "3683             0.0               863              2904   \n",
       "3684          4885.0                 0                 0   \n",
       "3685             0.0                 0                 0   \n",
       "3686          5990.0                 0                 0   \n",
       "3687             0.0             16311                 0   \n",
       "3688             0.0                 0                 0   \n",
       "3689          4478.0              5182                 0   \n",
       "3690             0.0                 5                37   \n",
       "3691           136.0                 0                 0   \n",
       "3692             0.0              4422                 0   \n",
       "3693          4869.0              2085              6388   \n",
       "3694          1210.0              2486                 0   \n",
       "3695             0.0                 0                 0   \n",
       "\n",
       "      totalTestResultsIncrease  deathIncrease  hospitalizedIncrease  \n",
       "3681                     52987            236                     0  \n",
       "3682                       763             18                     0  \n",
       "3683                     14674             14                     0  \n",
       "3684                         0              0                     0  \n",
       "3685                      2410              0                     0  \n",
       "3686                     36234              0                     0  \n",
       "3687                    105811            334                     0  \n",
       "3688                         0              0                     0  \n",
       "3689                     35329             49                   125  \n",
       "3690                        42              0                     0  \n",
       "3691                         0              0                     0  \n",
       "3692                     31430             41                   177  \n",
       "3693                     32340             12                    50  \n",
       "3694                     21741             23                     0  \n",
       "3695                         0              0                     0  "
      ]
     },
     "execution_count": 166,
     "metadata": {},
     "output_type": "execute_result"
    }
   ],
   "source": [
    "# State Data from Jan 1st to March 7th\n",
    "state_data1 = pd.read_csv(\"https://api.covidtracking.com/v1/states/daily.csv\")\n",
    "state_data1.drop([\"dateChecked\", \"pending\", \"posNeg\", \"total\", \"lastUpdateEt\", \"dateModified\", \"checkTimeEt\", \"hash\", \"grade\", \"score\", \"positiveScore\", \"negativeScore\", \n",
    "                       \"negativeRegularScore\", \"commercialScore\", \"totalTestEncountersViral\", \"positiveTestsPeopleAntibody\", \n",
    "                       \"negativeTestsPeopleAntibody\", \"totalTestsPeopleAntigen\", \"totalTestsPeopleAntibody\", \"negativeTestsAntibody\", \n",
    "                       \"positiveTestsAntibody\", \"totalTestsAntibody\", \"totalTestsPeopleViral\", \"deathProbable\", \"inIcuCumulative\", \"probableCases\", \n",
    "                       \"totalTestResultsSource\", \"totalTestResults\",\"fips\",\"totalTestsAntigen\",\"positiveTestsAntigen\",\"positiveTestsPeopleAntigen\",\"dataQualityGrade\",\"inIcuCurrently\",\n",
    "                       \"onVentilatorCurrently\",\"onVentilatorCumulative\",\"recovered\",\"positiveTestsViral\", \"negativeTestsViral\",\"positiveCasesViral\",\"totalTestsViral\"], axis=1, inplace=True)\n",
    "state_data1 = state_data1[(state_data1['date'] >= 20210101) & (state_data1['date'] <= 20210307)]\n",
    "\n",
    "state_data1.fillna(value=0, inplace=True)\n",
    "state_data1.tail(15)#last 15 rows\n"
   ]
  },
  {
   "cell_type": "code",
   "execution_count": 167,
   "metadata": {},
   "outputs": [
    {
     "data": {
      "text/html": [
       "<div>\n",
       "<style scoped>\n",
       "    .dataframe tbody tr th:only-of-type {\n",
       "        vertical-align: middle;\n",
       "    }\n",
       "\n",
       "    .dataframe tbody tr th {\n",
       "        vertical-align: top;\n",
       "    }\n",
       "\n",
       "    .dataframe thead th {\n",
       "        text-align: right;\n",
       "    }\n",
       "</style>\n",
       "<table border=\"1\" class=\"dataframe\">\n",
       "  <thead>\n",
       "    <tr style=\"text-align: right;\">\n",
       "      <th></th>\n",
       "      <th>date</th>\n",
       "      <th>state</th>\n",
       "      <th>positive</th>\n",
       "      <th>probableCases</th>\n",
       "      <th>negative</th>\n",
       "      <th>pending</th>\n",
       "      <th>totalTestResultsSource</th>\n",
       "      <th>totalTestResults</th>\n",
       "      <th>hospitalizedCurrently</th>\n",
       "      <th>hospitalizedCumulative</th>\n",
       "      <th>...</th>\n",
       "      <th>dataQualityGrade</th>\n",
       "      <th>deathIncrease</th>\n",
       "      <th>hospitalizedIncrease</th>\n",
       "      <th>hash</th>\n",
       "      <th>commercialScore</th>\n",
       "      <th>negativeRegularScore</th>\n",
       "      <th>negativeScore</th>\n",
       "      <th>positiveScore</th>\n",
       "      <th>score</th>\n",
       "      <th>grade</th>\n",
       "    </tr>\n",
       "  </thead>\n",
       "  <tbody>\n",
       "    <tr>\n",
       "      <td>20775</td>\n",
       "      <td>20200117</td>\n",
       "      <td>WA</td>\n",
       "      <td>0.0</td>\n",
       "      <td>NaN</td>\n",
       "      <td>NaN</td>\n",
       "      <td>NaN</td>\n",
       "      <td>totalTestEncountersViral</td>\n",
       "      <td>NaN</td>\n",
       "      <td>NaN</td>\n",
       "      <td>NaN</td>\n",
       "      <td>...</td>\n",
       "      <td>NaN</td>\n",
       "      <td>0</td>\n",
       "      <td>0</td>\n",
       "      <td>7cefac6b3681020741ca30f45399a7b22f2e45b4</td>\n",
       "      <td>0</td>\n",
       "      <td>0</td>\n",
       "      <td>0</td>\n",
       "      <td>0</td>\n",
       "      <td>0</td>\n",
       "      <td>NaN</td>\n",
       "    </tr>\n",
       "    <tr>\n",
       "      <td>20776</td>\n",
       "      <td>20200116</td>\n",
       "      <td>WA</td>\n",
       "      <td>0.0</td>\n",
       "      <td>NaN</td>\n",
       "      <td>NaN</td>\n",
       "      <td>NaN</td>\n",
       "      <td>totalTestEncountersViral</td>\n",
       "      <td>NaN</td>\n",
       "      <td>NaN</td>\n",
       "      <td>NaN</td>\n",
       "      <td>...</td>\n",
       "      <td>NaN</td>\n",
       "      <td>0</td>\n",
       "      <td>0</td>\n",
       "      <td>650501e005a5ee86d93c5f32dda56735ea2af967</td>\n",
       "      <td>0</td>\n",
       "      <td>0</td>\n",
       "      <td>0</td>\n",
       "      <td>0</td>\n",
       "      <td>0</td>\n",
       "      <td>NaN</td>\n",
       "    </tr>\n",
       "    <tr>\n",
       "      <td>20777</td>\n",
       "      <td>20200115</td>\n",
       "      <td>WA</td>\n",
       "      <td>0.0</td>\n",
       "      <td>NaN</td>\n",
       "      <td>NaN</td>\n",
       "      <td>NaN</td>\n",
       "      <td>totalTestEncountersViral</td>\n",
       "      <td>NaN</td>\n",
       "      <td>NaN</td>\n",
       "      <td>NaN</td>\n",
       "      <td>...</td>\n",
       "      <td>NaN</td>\n",
       "      <td>0</td>\n",
       "      <td>0</td>\n",
       "      <td>4987e61aad88182abfe641033b597304c2153d4f</td>\n",
       "      <td>0</td>\n",
       "      <td>0</td>\n",
       "      <td>0</td>\n",
       "      <td>0</td>\n",
       "      <td>0</td>\n",
       "      <td>NaN</td>\n",
       "    </tr>\n",
       "    <tr>\n",
       "      <td>20778</td>\n",
       "      <td>20200114</td>\n",
       "      <td>WA</td>\n",
       "      <td>0.0</td>\n",
       "      <td>NaN</td>\n",
       "      <td>NaN</td>\n",
       "      <td>NaN</td>\n",
       "      <td>totalTestEncountersViral</td>\n",
       "      <td>NaN</td>\n",
       "      <td>NaN</td>\n",
       "      <td>NaN</td>\n",
       "      <td>...</td>\n",
       "      <td>NaN</td>\n",
       "      <td>0</td>\n",
       "      <td>0</td>\n",
       "      <td>1881c8a2f0d337b22066b4f05df06eb2259e8d57</td>\n",
       "      <td>0</td>\n",
       "      <td>0</td>\n",
       "      <td>0</td>\n",
       "      <td>0</td>\n",
       "      <td>0</td>\n",
       "      <td>NaN</td>\n",
       "    </tr>\n",
       "    <tr>\n",
       "      <td>20779</td>\n",
       "      <td>20200113</td>\n",
       "      <td>WA</td>\n",
       "      <td>NaN</td>\n",
       "      <td>NaN</td>\n",
       "      <td>NaN</td>\n",
       "      <td>NaN</td>\n",
       "      <td>totalTestEncountersViral</td>\n",
       "      <td>NaN</td>\n",
       "      <td>NaN</td>\n",
       "      <td>NaN</td>\n",
       "      <td>...</td>\n",
       "      <td>NaN</td>\n",
       "      <td>0</td>\n",
       "      <td>0</td>\n",
       "      <td>12b994ad07c276a5278a2465e081751688739765</td>\n",
       "      <td>0</td>\n",
       "      <td>0</td>\n",
       "      <td>0</td>\n",
       "      <td>0</td>\n",
       "      <td>0</td>\n",
       "      <td>NaN</td>\n",
       "    </tr>\n",
       "  </tbody>\n",
       "</table>\n",
       "<p>5 rows × 56 columns</p>\n",
       "</div>"
      ],
      "text/plain": [
       "           date state  positive  probableCases  negative  pending  \\\n",
       "20775  20200117    WA       0.0            NaN       NaN      NaN   \n",
       "20776  20200116    WA       0.0            NaN       NaN      NaN   \n",
       "20777  20200115    WA       0.0            NaN       NaN      NaN   \n",
       "20778  20200114    WA       0.0            NaN       NaN      NaN   \n",
       "20779  20200113    WA       NaN            NaN       NaN      NaN   \n",
       "\n",
       "         totalTestResultsSource  totalTestResults  hospitalizedCurrently  \\\n",
       "20775  totalTestEncountersViral               NaN                    NaN   \n",
       "20776  totalTestEncountersViral               NaN                    NaN   \n",
       "20777  totalTestEncountersViral               NaN                    NaN   \n",
       "20778  totalTestEncountersViral               NaN                    NaN   \n",
       "20779  totalTestEncountersViral               NaN                    NaN   \n",
       "\n",
       "       hospitalizedCumulative  ...  dataQualityGrade  deathIncrease  \\\n",
       "20775                     NaN  ...               NaN              0   \n",
       "20776                     NaN  ...               NaN              0   \n",
       "20777                     NaN  ...               NaN              0   \n",
       "20778                     NaN  ...               NaN              0   \n",
       "20779                     NaN  ...               NaN              0   \n",
       "\n",
       "       hospitalizedIncrease                                      hash  \\\n",
       "20775                     0  7cefac6b3681020741ca30f45399a7b22f2e45b4   \n",
       "20776                     0  650501e005a5ee86d93c5f32dda56735ea2af967   \n",
       "20777                     0  4987e61aad88182abfe641033b597304c2153d4f   \n",
       "20778                     0  1881c8a2f0d337b22066b4f05df06eb2259e8d57   \n",
       "20779                     0  12b994ad07c276a5278a2465e081751688739765   \n",
       "\n",
       "       commercialScore negativeRegularScore negativeScore positiveScore  \\\n",
       "20775                0                    0             0             0   \n",
       "20776                0                    0             0             0   \n",
       "20777                0                    0             0             0   \n",
       "20778                0                    0             0             0   \n",
       "20779                0                    0             0             0   \n",
       "\n",
       "       score  grade  \n",
       "20775      0    NaN  \n",
       "20776      0    NaN  \n",
       "20777      0    NaN  \n",
       "20778      0    NaN  \n",
       "20779      0    NaN  \n",
       "\n",
       "[5 rows x 56 columns]"
      ]
     },
     "execution_count": 167,
     "metadata": {},
     "output_type": "execute_result"
    }
   ],
   "source": [
    "# Again reading the CSV file to analyse the data in months of 2021.\n",
    "data_2021 = pd.read_csv(\"https://api.covidtracking.com/v1/states/daily.csv\")\n",
    "data_2021.tail()"
   ]
  },
  {
   "cell_type": "code",
   "execution_count": 168,
   "metadata": {},
   "outputs": [
    {
     "data": {
      "text/plain": [
       "379100459.0"
      ]
     },
     "execution_count": 168,
     "metadata": {},
     "output_type": "execute_result"
    }
   ],
   "source": [
    "#Checking positive cases of California\n",
    "CA = data_2021[data_2021.state == 'CA']\n",
    "CA['positive'].sum()"
   ]
  },
  {
   "cell_type": "code",
   "execution_count": 169,
   "metadata": {},
   "outputs": [
    {
     "data": {
      "text/plain": [
       "311242452.0"
      ]
     },
     "execution_count": 169,
     "metadata": {},
     "output_type": "execute_result"
    }
   ],
   "source": [
    "#Checking positive cases of Texas\n",
    "TX = data_2021[data_2021.state == 'TX']\n",
    "TX['positive'].sum()"
   ]
  },
  {
   "cell_type": "code",
   "execution_count": 170,
   "metadata": {},
   "outputs": [
    {
     "data": {
      "text/plain": [
       "246537443.0"
      ]
     },
     "execution_count": 170,
     "metadata": {},
     "output_type": "execute_result"
    }
   ],
   "source": [
    "#Checking positive cases of Florida\n",
    "FL= data_2021[data_2021.state == 'FL']\n",
    "FL['positive'].sum()"
   ]
  },
  {
   "cell_type": "code",
   "execution_count": 171,
   "metadata": {},
   "outputs": [],
   "source": [
    "# reading state data again to check the cases in months of Feb and March in the year 2021\n",
    "state_data_2021 = pd.read_csv(\"https://api.covidtracking.com/v1/states/daily.csv\")\n",
    "state_data_2021 = state_data_2021[(state_data_2021['date'] >= 20210214) & (state_data_2021['date'] <= 20210307)]"
   ]
  },
  {
   "cell_type": "code",
   "execution_count": 172,
   "metadata": {},
   "outputs": [],
   "source": [
    "# reading state data again to check the cases in months of Nov and Dec in the year 2020\n",
    "state_covid_data_2020 = pd.read_csv(\"https://api.covidtracking.com/v1/states/daily.csv\")\n",
    "state_covid_data_2020 = state_covid_data_2020[(state_covid_data_2020['date'] >= 20201114) & (state_covid_data_2020['date'] <= 20201214)]"
   ]
  },
  {
   "cell_type": "code",
   "execution_count": 173,
   "metadata": {},
   "outputs": [],
   "source": [
    "df_CA = state_covid_data_2020[state_covid_data_2020.state == 'CA']\n",
    "h = df_CA['positive'].sum()"
   ]
  },
  {
   "cell_type": "code",
   "execution_count": 174,
   "metadata": {},
   "outputs": [],
   "source": [
    "df_CA = state_data_2021[state_data_2021.state == 'CA']\n",
    "g = df_CA['positive'].sum()"
   ]
  },
  {
   "cell_type": "code",
   "execution_count": 175,
   "metadata": {},
   "outputs": [
    {
     "data": {
      "text/plain": [
       "<function matplotlib.pyplot.show(close=None, block=None)>"
      ]
     },
     "execution_count": 175,
     "metadata": {},
     "output_type": "execute_result"
    },
    {
     "data": {
      "image/png": "[encoded data removed]",
      "text/plain": [
       "<Figure size 432x288 with 1 Axes>"
      ]
     },
     "metadata": {
      "needs_background": "light"
     },
     "output_type": "display_data"
    }
   ],
   "source": [
    "plt.title(\"Comparison of positive cases of California before and after Vaccine administered\")\n",
    "plt.bar(['Dec2020-Jan2021', 'Feb2021-Mar2021'], [g, h])\n",
    "plt.show"
   ]
  },
  {
   "cell_type": "code",
   "execution_count": 176,
   "metadata": {},
   "outputs": [
    {
     "name": "stdout",
     "output_type": "stream",
     "text": [
      "3.015431222449341e-64\n"
     ]
    }
   ],
   "source": [
    "# Checking the p-value which will be used further to clear our hypotheses of which ML algorithm is better\n",
    "from scipy import stats\n",
    "covid_data = covid_data.iloc[::-1]\n",
    "ttest,p_value = stats.ttest_rel(data['positiveIncrease'], data['deathIncrease'])\n",
    "print(p_value)"
   ]
  },
  {
   "cell_type": "code",
   "execution_count": 177,
   "metadata": {},
   "outputs": [
    {
     "data": {
      "image/png": "[encoded data removed]",
      "text/plain": [
       "<Figure size 432x288 with 1 Axes>"
      ]
     },
     "metadata": {
      "needs_background": "light"
     },
     "output_type": "display_data"
    }
   ],
   "source": [
    "month_hos = dict()\n",
    "month = 4\n",
    "for i in range(4, 12):\n",
    "    month_hos[i] = 0\n",
    "for column,row in covid_data.iterrows():\n",
    "    if int(str(row['date'])[4:6]) == month:\n",
    "        month_hos[int(str(row['date'])[4:6])] += covid_data.at[column, 'hospitalizedIncrease']\n",
    "    else:\n",
    "        month += 1\n",
    "\n",
    "hospermonth = pd.DataFrame(month_hos.items(), columns=['month', 'hospitalization'])\n",
    "plt.barh(hospermonth['month'], hospermonth['hospitalization'])\n",
    "plt.ylabel('Month')\n",
    "plt.xlabel('Hospitalization')\n",
    "plt.title('Hospitalization Over Month', fontweight = \"bold\")\n",
    "plt.show()"
   ]
  },
  {
   "cell_type": "code",
   "execution_count": 178,
   "metadata": {},
   "outputs": [
    {
     "data": {
      "image/png": "[encoded data removed]",
      "text/plain": [
       "<Figure size 432x288 with 1 Axes>"
      ]
     },
     "metadata": {
      "needs_background": "light"
     },
     "output_type": "display_data"
    }
   ],
   "source": [
    "month_death = dict()\n",
    "month = 4\n",
    "for i in range(4, 12):\n",
    "    month_death[i] = 0\n",
    "for column,row in covid_data.iterrows():\n",
    "    if int(str(row['date'])[4:6]) == month:\n",
    "        month_death[int(str(row['date'])[4:6])] += covid_data.at[column, 'deathIncrease']\n",
    "    else:\n",
    "        month += 1\n",
    "\n",
    "death_month = pd.DataFrame(month_death.items(), columns=['month', 'death'])\n",
    "plt.barh(death_month['month'], death_month['death'])\n",
    "plt.xlabel('Month')\n",
    "plt.ylabel('Death')\n",
    "plt.title('Deaths Over Month',fontweight = \"bold\")\n",
    "plt.show()\n"
   ]
  },
  {
   "cell_type": "code",
   "execution_count": 179,
   "metadata": {},
   "outputs": [
    {
     "data": {
      "image/png": "[encoded data removed]",
      "text/plain": [
       "<Figure size 1080x720 with 1 Axes>"
      ]
     },
     "metadata": {
      "needs_background": "light"
     },
     "output_type": "display_data"
    }
   ],
   "source": [
    "covid_group_by_state = state_data.groupby('state')\n",
    "plt.figure(figsize=(15, 10))\n",
    "for state, data in covid_group_by_state:\n",
    "    plt.plot(data['date'], data['positive'], label=state)\n",
    "plt.legend(ncol=3)\n",
    "plt.ticklabel_format(axis='y', style='plain')\n",
    "month_starts = [20200401,20200501,20200601,20200701,20200801,20200901,20201001,20201101]\n",
    "month_names = ['Apr','May','Jun', 'Jul','Aug','Sep','Oct','Nov'] \n",
    "plt.title('Confirmed Cases Increase Per Day for Each State in US')\n",
    "plt.xlabel('Time')\n",
    "plt.ylabel('Cumulative Death')\n",
    "plt.xticks(month_starts,month_names)\n",
    "plt.show()"
   ]
  },
  {
   "cell_type": "code",
   "execution_count": 180,
   "metadata": {},
   "outputs": [
    {
     "data": {
      "image/png": "[encoded data removed]",
      "text/plain": [
       "<Figure size 1800x720 with 1 Axes>"
      ]
     },
     "metadata": {
      "needs_background": "light"
     },
     "output_type": "display_data"
    }
   ],
   "source": [
    "covid_group_by_state1 = state_data1.groupby('state')\n",
    "plt.figure(figsize=(25, 10))\n",
    "for state, data in covid_group_by_state1:\n",
    "    plt.plot(state_data1['date'], state_data1['positive'], label=state)\n",
    "plt.legend(ncol=4)\n",
    "plt.ticklabel_format(axis='y', style='plain')\n",
    "month_starts = [20210101,20210201,20210301]\n",
    "month_names = ['Jan','Feb', 'Mar'] \n",
    "plt.title('Confirmed Cases Increase Per Day for Each State in US')\n",
    "plt.xlabel('Time')\n",
    "plt.ylabel('Cumulative Death')\n",
    "plt.xticks(month_starts,month_names)\n",
    "plt.show()"
   ]
  },
  {
   "cell_type": "code",
   "execution_count": 181,
   "metadata": {},
   "outputs": [],
   "source": [
    "# Machine Learning algorithms tp predict the growth rate or death rate of covid-19 cases\n",
    "\n",
    "from sklearn.model_selection import train_test_split\n",
    "from sklearn.ensemble import RandomForestRegressor\n",
    "from sklearn.svm import SVR\n",
    "from sklearn.tree import export_graphviz\n",
    "from IPython.display import SVG\n",
    "import pydot"
   ]
  },
  {
   "cell_type": "code",
   "execution_count": 212,
   "metadata": {},
   "outputs": [],
   "source": [
    "# Using Numpy (np) ro create the matrix of deathIncrease and Positive Increase\n",
    "c5_data = covid_data.copy()\n",
    "c5_data['deathIncreaseAvg'] = c5_data['positiveIncrease'] * 0.018 # Mortality Data from JHU\n",
    "\n",
    "c5_data.deathIncreaseAvg.shift(periods=-17, fill_value=0)\n",
    "c5_data.deathIncrease.shift(periods=-17, fill_value=0)\n",
    "c5_data = c5_data[(c5_data['date'] >= 20200401) & (c5_data['date'] <= 20201130)]\n",
    "c5_data.reset_index()\n",
    "\n",
    "c5_labels = np.array(c5_data['deathIncrease'])\n",
    "c5_data = c5_data.drop(['deathIncrease'], axis=1)\n",
    "c5_f_list = list(c5_data.columns)\n",
    "c5_f = np.array(c5_data)"
   ]
  },
  {
   "cell_type": "code",
   "execution_count": 213,
   "metadata": {},
   "outputs": [
    {
     "name": "stdout",
     "output_type": "stream",
     "text": [
      "RF Training Features Shape: (183, 8)\n",
      "RF Training Labels Shape: (183,)\n",
      "RF Testing Features Shape: (61, 8)\n",
      "RF Testing Labels Shape: (61,)\n",
      "RF Average baseline error:  623.91\n",
      "SVR Training Features Shape: (183, 8)\n",
      "SVR Training Labels Shape: (183,)\n",
      "SVR Testing Features Shape: (61, 8)\n",
      "SVR Testing Labels Shape: (61,)\n",
      "SVR Average baseline error:  600.19\n"
     ]
    }
   ],
   "source": [
    "# Splitting into training and testing 75% train data and 25% test data\n",
    "c5_rf_train_features, c5_rf_test_features, c5_rf_train_labels, c5_rf_test_labels = \\\n",
    "  train_test_split(c5_f, c5_labels, test_size = 0.25, random_state = 100)\n",
    "\n",
    "c5_svr_train_features, c5_svr_test_features, c5_svr_train_labels, c5_svr_test_labels = \\\n",
    "  train_test_split(c5_f, c5_labels, test_size = 0.25)\n",
    "\n",
    "c5_rf_baseline_preds = c5_rf_test_features[:, c5_f_list.index('deathIncreaseAvg')]\n",
    "c5_rf_baseline_errors = abs(c5_rf_baseline_preds - c5_rf_test_labels)\n",
    "\n",
    "c5_svr_baseline_preds = c5_svr_test_features[:, c5_f_list.index('deathIncreaseAvg')]\n",
    "c5_svr_baseline_errors = abs(c5_svr_baseline_preds - c5_svr_test_labels)\n",
    "\n",
    "print('RF Training Features Shape:', c5_rf_train_features.shape)\n",
    "print('RF Training Labels Shape:', c5_rf_train_labels.shape)\n",
    "print('RF Testing Features Shape:', c5_rf_test_features.shape)\n",
    "print('RF Testing Labels Shape:', c5_rf_test_labels.shape)\n",
    "print('RF Average baseline error: ', round(np.mean(c5_rf_baseline_errors), 2))\n",
    "\n",
    "print('SVR Training Features Shape:', c5_svr_train_features.shape)\n",
    "print('SVR Training Labels Shape:', c5_svr_train_labels.shape)\n",
    "print('SVR Testing Features Shape:', c5_svr_test_features.shape)\n",
    "print('SVR Testing Labels Shape:', c5_svr_test_labels.shape)\n",
    "print('SVR Average baseline error: ', round(np.mean(c5_svr_baseline_errors), 2))"
   ]
  },
  {
   "cell_type": "code",
   "execution_count": 214,
   "metadata": {},
   "outputs": [
    {
     "name": "stdout",
     "output_type": "stream",
     "text": [
      "Mean Absolute Error: 171.09\n",
      "Accuracy: 80.053 %.\n"
     ]
    }
   ],
   "source": [
    "# Random Forest Algorithm\n",
    "\n",
    "c5_rf = RandomForestRegressor(n_estimators = 2000, random_state = 100)\n",
    "c5_rf.fit(c5_rf_train_features, c5_rf_train_labels)\n",
    "\n",
    "c5_rf_pred = c5_rf.predict(c5_rf_test_features)\n",
    "c5_rf_errors = abs(c5_rf_pred - c5_rf_test_labels)\n",
    "\n",
    "print('Mean Absolute Error:', round(np.mean(c5_rf_errors), 2))\n",
    "\n",
    "c5_rf_mape = 100 * (c5_rf_errors / c5_rf_test_labels)\n",
    "\n",
    "c5_rf_accuracy = 100 - np.mean(c5_rf_mape)\n",
    "print('Accuracy:', round(c5_rf_accuracy, 3), '%.') #Finding Accuracy of Random Forest"
   ]
  },
  {
   "cell_type": "code",
   "execution_count": 215,
   "metadata": {},
   "outputs": [
    {
     "name": "stdout",
     "output_type": "stream",
     "text": [
      "Mean Absolute Error: 392.33\n",
      "Accuracy: 53.352 %.\n"
     ]
    },
    {
     "name": "stderr",
     "output_type": "stream",
     "text": [
      "C:\\Users\\krish\\Anaconda3\\lib\\site-packages\\sklearn\\svm\\base.py:193: FutureWarning: The default value of gamma will change from 'auto' to 'scale' in version 0.22 to account better for unscaled features. Set gamma explicitly to 'auto' or 'scale' to avoid this warning.\n",
      "  \"avoid this warning.\", FutureWarning)\n"
     ]
    }
   ],
   "source": [
    "# Support Vector Regression Algorithm\n",
    "\n",
    "\n",
    "c5_svr = SVR()\n",
    "c5_svr.fit(c5_svr_train_features, c5_svr_train_labels)\n",
    "\n",
    "\n",
    "c5_svr_pred = c5_svr.predict(c5_svr_test_features)\n",
    "c5_svr_errors = abs(c5_svr_pred - c5_svr_test_labels)\n",
    "\n",
    "print('Mean Absolute Error:', round(np.mean(c5_svr_errors), 2))\n",
    "\n",
    "c5_svr_mape = 100 * (c5_svr_errors / c5_svr_test_labels)\n",
    "\n",
    "c5_svr_accuracy = 100 - np.mean(c5_svr_mape)\n",
    "print('Accuracy:', round(c5_svr_accuracy, 3), '%.') #Finding accuracy of SVR"
   ]
  },
  {
   "cell_type": "code",
   "execution_count": 216,
   "metadata": {
    "scrolled": true
   },
   "outputs": [
    {
     "data": {
      "text/plain": [
       "<function matplotlib.pyplot.show(close=None, block=None)>"
      ]
     },
     "execution_count": 216,
     "metadata": {},
     "output_type": "execute_result"
    },
    {
     "data": {
      "image/png": "[encoded data removed]",
      "text/plain": [
       "<Figure size 432x288 with 1 Axes>"
      ]
     },
     "metadata": {
      "needs_background": "light"
     },
     "output_type": "display_data"
    }
   ],
   "source": [
    "plt.bar(['SVR', 'RF'], [c5_svr_accuracy, c5_rf_accuracy])\n",
    "plt.show"
   ]
  },
  {
   "cell_type": "code",
   "execution_count": 217,
   "metadata": {
    "scrolled": true
   },
   "outputs": [
    {
     "data": {
      "image/png": "[encoded data removed]",
      "text/plain": [
       "<Figure size 432x288 with 1 Axes>"
      ]
     },
     "metadata": {
      "needs_background": "light"
     },
     "output_type": "display_data"
    }
   ],
   "source": [
    "#Finding out variable importance based on random Forest algorithms\n",
    "\n",
    "c5_importances = list(c5_rf.feature_importances_)\n",
    "c5_feature_importances = [(feature, round(importance, 2)) for feature, importance in zip(c5_f_list, c5_importances)]\n",
    "c5_feature_importances = sorted(c5_feature_importances, key = lambda i: i[1], reverse = True)\n",
    "plt.bar(list(range(len(c5_importances))), c5_importances, color = 'black')\n",
    "plt.xticks(list(range(len(c5_importances))), c5_f_list, rotation= \"vertical\")\n",
    "plt.xlabel('Variables')\n",
    "plt.ylabel('Importance Factor')\n",
    "plt.title('Variable Importance for COVID-19 DeathIncrease')\n",
    "plt.show()"
   ]
  },
  {
   "cell_type": "code",
   "execution_count": 188,
   "metadata": {},
   "outputs": [],
   "source": [
    "\n",
    "\n",
    "p6_data = covid_data1.copy()\n",
    "p6_data['deathIncreaseAvg'] = p6_data['positiveIncrease'] * 0.018 # Mortality Data from JHU\n",
    "\n",
    "p6_data.deathIncreaseAvg.shift(periods=-17, fill_value=0)\n",
    "p6_data.deathIncrease.shift(periods=-17, fill_value=0)\n",
    "p6_data = p6_data[(p6_data['date'] >= 20201412) & (p6_data['date'] <= 20210703)]\n",
    "p6_data.reset_index()\n",
    "\n",
    "p6_labels = np.array(p6_data['deathIncrease'])\n",
    "p6_data = p6_data.drop(['deathIncrease'], axis=1)\n",
    "p6_f_list = list(p6_data.columns)\n",
    "p6_f = np.array(p6_data)"
   ]
  },
  {
   "cell_type": "code",
   "execution_count": 189,
   "metadata": {},
   "outputs": [
    {
     "name": "stdout",
     "output_type": "stream",
     "text": [
      "RF Training Features Shape: (49, 8)\n",
      "RF Training Labels Shape: (49,)\n",
      "RF Testing Features Shape: (17, 8)\n",
      "RF Testing Labels Shape: (17,)\n",
      "RF Average baseline error:  942.49\n",
      "SVR Training Features Shape: (49, 8)\n",
      "SVR Training Labels Shape: (49,)\n",
      "SVR Testing Features Shape: (17, 8)\n",
      "SVR Testing Labels Shape: (17,)\n",
      "SVR Average baseline error:  949.5\n"
     ]
    }
   ],
   "source": [
    "p6_rf_train_features, p6_rf_test_features, p6_rf_train_labels, p6_rf_test_labels = \\\n",
    "  train_test_split(p6_f, p6_labels, test_size = 0.25, random_state = 100)\n",
    "\n",
    "p6_svr_train_features, p6_svr_test_features, p6_svr_train_labels, p6_svr_test_labels = \\\n",
    "  train_test_split(p6_f, p6_labels, test_size = 0.25)\n",
    "\n",
    "p6_rf_baseline_preds = p6_rf_test_features[:, p6_f_list.index('deathIncreaseAvg')]\n",
    "p6_rf_baseline_errors = abs(p6_rf_baseline_preds - p6_rf_test_labels)\n",
    "\n",
    "p6_svr_baseline_preds = p6_svr_test_features[:, p6_f_list.index('deathIncreaseAvg')]\n",
    "p6_svr_baseline_errors = abs(p6_svr_baseline_preds - p6_svr_test_labels)\n",
    "\n",
    "print('RF Training Features Shape:', p6_rf_train_features.shape)\n",
    "print('RF Training Labels Shape:', p6_rf_train_labels.shape)\n",
    "print('RF Testing Features Shape:', p6_rf_test_features.shape)\n",
    "print('RF Testing Labels Shape:', p6_rf_test_labels.shape)\n",
    "print('RF Average baseline error: ', round(np.mean(p6_rf_baseline_errors), 2))\n",
    "\n",
    "print('SVR Training Features Shape:', p6_svr_train_features.shape)\n",
    "print('SVR Training Labels Shape:', p6_svr_train_labels.shape)\n",
    "print('SVR Testing Features Shape:', p6_svr_test_features.shape)\n",
    "print('SVR Testing Labels Shape:', p6_svr_test_labels.shape)\n",
    "print('SVR Average baseline error: ', round(np.mean(p6_svr_baseline_errors), 2))"
   ]
  },
  {
   "cell_type": "code",
   "execution_count": 190,
   "metadata": {},
   "outputs": [
    {
     "name": "stdout",
     "output_type": "stream",
     "text": [
      "Mean Absolute Error: 324.94\n",
      "Accuracy: 84.059 %.\n"
     ]
    }
   ],
   "source": [
    "p6_rf = RandomForestRegressor(n_estimators = 2000, random_state = 100)\n",
    "p6_rf.fit(p6_rf_train_features, p6_rf_train_labels)\n",
    "\n",
    "p6_rf_pred = p6_rf.predict(p6_rf_test_features)\n",
    "p6_rf_errors = abs(p6_rf_pred - p6_rf_test_labels)\n",
    "\n",
    "print('Mean Absolute Error:', round(np.mean(p6_rf_errors), 2))\n",
    "\n",
    "p6_rf_mape = 100 * (p6_rf_errors / p6_rf_test_labels)\n",
    "\n",
    "p6_rf_accuracy = 100 - np.mean(p6_rf_mape)\n",
    "print('Accuracy:', round(p6_rf_accuracy, 3), '%.')"
   ]
  },
  {
   "cell_type": "code",
   "execution_count": 191,
   "metadata": {},
   "outputs": [
    {
     "name": "stdout",
     "output_type": "stream",
     "text": [
      "Mean Absolute Error: 969.29\n",
      "Accuracy: 57.781 %.\n"
     ]
    },
    {
     "name": "stderr",
     "output_type": "stream",
     "text": [
      "C:\\Users\\krish\\Anaconda3\\lib\\site-packages\\sklearn\\svm\\base.py:193: FutureWarning: The default value of gamma will change from 'auto' to 'scale' in version 0.22 to account better for unscaled features. Set gamma explicitly to 'auto' or 'scale' to avoid this warning.\n",
      "  \"avoid this warning.\", FutureWarning)\n"
     ]
    }
   ],
   "source": [
    "p6_svr = SVR()\n",
    "p6_svr.fit(p6_svr_train_features, p6_svr_train_labels)\n",
    "\n",
    "\n",
    "p6_svr_pred = p6_svr.predict(p6_svr_test_features)\n",
    "p6_svr_errors = abs(p6_svr_pred - p6_svr_test_labels)\n",
    "\n",
    "print('Mean Absolute Error:', round(np.mean(p6_svr_errors), 2))\n",
    "\n",
    "p6_svr_mape = 100 * (p6_svr_errors / p6_svr_test_labels)\n",
    "\n",
    "p6_svr_accuracy = 100 - np.mean(p6_svr_mape)\n",
    "print('Accuracy:', round(p6_svr_accuracy, 3), '%.')"
   ]
  },
  {
   "cell_type": "code",
   "execution_count": 192,
   "metadata": {},
   "outputs": [
    {
     "data": {
      "image/png": "[encoded data removed]",
      "text/plain": [
       "<Figure size 432x288 with 1 Axes>"
      ]
     },
     "metadata": {
      "needs_background": "light"
     },
     "output_type": "display_data"
    }
   ],
   "source": [
    "\n",
    "plt.bar(['SVR, 60% ACCURACY', 'RF, 85% ACCURACY'], [p6_svr_accuracy, p6_rf_accuracy], color=['orange', 'lightblue'])\n",
    "plt.show()"
   ]
  },
  {
   "cell_type": "code",
   "execution_count": 194,
   "metadata": {},
   "outputs": [
    {
     "data": {
      "text/plain": [
       "1188158623.0"
      ]
     },
     "execution_count": 194,
     "metadata": {},
     "output_type": "execute_result"
    }
   ],
   "source": [
    "e = state_data['positive'].sum(); e\n"
   ]
  },
  {
   "cell_type": "code",
   "execution_count": 195,
   "metadata": {},
   "outputs": [
    {
     "data": {
      "text/plain": [
       "1689066577.0"
      ]
     },
     "execution_count": 195,
     "metadata": {},
     "output_type": "execute_result"
    }
   ],
   "source": [
    "f = state_data1['positive'].sum();f"
   ]
  },
  {
   "cell_type": "code",
   "execution_count": 196,
   "metadata": {},
   "outputs": [
    {
     "data": {
      "text/plain": [
       "1188158623.0"
      ]
     },
     "execution_count": 196,
     "metadata": {},
     "output_type": "execute_result"
    }
   ],
   "source": [
    "e1 = state_data['positive'].sum();e1"
   ]
  },
  {
   "cell_type": "code",
   "execution_count": 197,
   "metadata": {},
   "outputs": [
    {
     "data": {
      "text/plain": [
       "618307377.0"
      ]
     },
     "execution_count": 197,
     "metadata": {},
     "output_type": "execute_result"
    }
   ],
   "source": [
    "f1 = state_data_2021['positive'].sum(); f1"
   ]
  },
  {
   "cell_type": "code",
   "execution_count": 198,
   "metadata": {},
   "outputs": [
    {
     "data": {
      "text/plain": [
       "<function matplotlib.pyplot.show(close=None, block=None)>"
      ]
     },
     "execution_count": 198,
     "metadata": {},
     "output_type": "execute_result"
    },
    {
     "data": {
      "image/png": "[encoded data removed]",
      "text/plain": [
       "<Figure size 432x288 with 1 Axes>"
      ]
     },
     "metadata": {
      "needs_background": "light"
     },
     "output_type": "display_data"
    }
   ],
   "source": [
    "plt.title(\"  Comparison of positive cases before and after Vaccine administered\")\n",
    "plt.bar(['Dec2020-Jan2021', 'Feb2021-Mar2021'], [e1, f1])\n",
    "plt.show"
   ]
  },
  {
   "cell_type": "code",
   "execution_count": 199,
   "metadata": {},
   "outputs": [],
   "source": [
    "x = state_data['death'].sum()"
   ]
  },
  {
   "cell_type": "code",
   "execution_count": 200,
   "metadata": {},
   "outputs": [],
   "source": [
    "y = state_data1['death'].sum()"
   ]
  },
  {
   "cell_type": "code",
   "execution_count": 201,
   "metadata": {},
   "outputs": [
    {
     "data": {
      "text/plain": [
       "35351990.0"
      ]
     },
     "execution_count": 201,
     "metadata": {},
     "output_type": "execute_result"
    }
   ],
   "source": [
    "x1 = state_data['death'].sum() ; x1"
   ]
  },
  {
   "cell_type": "code",
   "execution_count": 202,
   "metadata": {},
   "outputs": [
    {
     "data": {
      "text/plain": [
       "10911471.0"
      ]
     },
     "execution_count": 202,
     "metadata": {},
     "output_type": "execute_result"
    }
   ],
   "source": [
    "y1 = state_data_2021['death'].sum() ;y1"
   ]
  },
  {
   "cell_type": "code",
   "execution_count": 203,
   "metadata": {},
   "outputs": [
    {
     "data": {
      "text/plain": [
       "5137774721.0"
      ]
     },
     "execution_count": 203,
     "metadata": {},
     "output_type": "execute_result"
    }
   ],
   "source": [
    "c = state_data['negative'].sum() ; c"
   ]
  },
  {
   "cell_type": "code",
   "execution_count": 204,
   "metadata": {},
   "outputs": [
    {
     "data": {
      "text/plain": [
       "1594109841.0"
      ]
     },
     "execution_count": 204,
     "metadata": {},
     "output_type": "execute_result"
    }
   ],
   "source": [
    "d = state_data_2021['negative'].sum() ; d"
   ]
  },
  {
   "cell_type": "code",
   "execution_count": 205,
   "metadata": {},
   "outputs": [
    {
     "data": {
      "text/plain": [
       "52142037.0"
      ]
     },
     "execution_count": 205,
     "metadata": {},
     "output_type": "execute_result"
    }
   ],
   "source": [
    "state_data['hospitalized'].sum()"
   ]
  },
  {
   "cell_type": "code",
   "execution_count": 206,
   "metadata": {},
   "outputs": [
    {
     "data": {
      "text/plain": [
       "46254859.0"
      ]
     },
     "execution_count": 206,
     "metadata": {},
     "output_type": "execute_result"
    }
   ],
   "source": [
    "state_data1['hospitalized'].sum()"
   ]
  },
  {
   "cell_type": "code",
   "execution_count": 207,
   "metadata": {},
   "outputs": [
    {
     "data": {
      "text/plain": [
       "450918"
      ]
     },
     "execution_count": 207,
     "metadata": {},
     "output_type": "execute_result"
    }
   ],
   "source": [
    "a = state_data['hospitalizedIncrease'].sum() ; a"
   ]
  },
  {
   "cell_type": "code",
   "execution_count": 208,
   "metadata": {},
   "outputs": [
    {
     "data": {
      "text/plain": [
       "192498"
      ]
     },
     "execution_count": 208,
     "metadata": {},
     "output_type": "execute_result"
    }
   ],
   "source": [
    "b = state_data1['hospitalizedIncrease'].sum() ; b"
   ]
  },
  {
   "cell_type": "code",
   "execution_count": 209,
   "metadata": {},
   "outputs": [
    {
     "data": {
      "text/plain": [
       "<function matplotlib.pyplot.show(close=None, block=None)>"
      ]
     },
     "execution_count": 209,
     "metadata": {},
     "output_type": "execute_result"
    },
    {
     "data": {
      "image/png": "[encoded data removed]",
      "text/plain": [
       "<Figure size 432x288 with 1 Axes>"
      ]
     },
     "metadata": {
      "needs_background": "light"
     },
     "output_type": "display_data"
    }
   ],
   "source": [
    "plt.title(\"Comparison of HospitalizedIncrease before and after Vaccine administered\")\n",
    "plt.bar(['before', 'after'], [a, b])\n",
    "plt.show"
   ]
  },
  {
   "cell_type": "code",
   "execution_count": 210,
   "metadata": {},
   "outputs": [
    {
     "data": {
      "text/plain": [
       "<function matplotlib.pyplot.show(close=None, block=None)>"
      ]
     },
     "execution_count": 210,
     "metadata": {},
     "output_type": "execute_result"
    },
    {
     "data": {
      "image/png": "[encoded data removed]",
      "text/plain": [
       "<Figure size 432x288 with 1 Axes>"
      ]
     },
     "metadata": {
      "needs_background": "light"
     },
     "output_type": "display_data"
    }
   ],
   "source": [
    "plt.title(\"  Comparison of positive cases before and after Vaccine administered\")\n",
    "plt.bar(['before', 'after'], [e, f])\n",
    "plt.show"
   ]
  },
  {
   "cell_type": "code",
   "execution_count": 211,
   "metadata": {},
   "outputs": [
    {
     "data": {
      "text/plain": [
       "<function matplotlib.pyplot.show(close=None, block=None)>"
      ]
     },
     "execution_count": 211,
     "metadata": {},
     "output_type": "execute_result"
    },
    {
     "data": {
      "image/png": "[encoded data removed]",
      "text/plain": [
       "<Figure size 432x288 with 1 Axes>"
      ]
     },
     "metadata": {
      "needs_background": "light"
     },
     "output_type": "display_data"
    }
   ],
   "source": [
    "plt.title(\"Comparison of deaths before and after Vaccine administered\")\n",
    "plt.bar(['before', 'after'], [x , y])\n",
    "plt.show"
   ]
  },
  {
   "cell_type": "code",
   "execution_count": null,
   "metadata": {},
   "outputs": [],
   "source": []
  },
  {
   "cell_type": "code",
   "execution_count": null,
   "metadata": {},
   "outputs": [],
   "source": []
  }
 ],
 "metadata": {
  "kernelspec": {
   "display_name": "Python 3",
   "language": "python",
   "name": "python3"
  },
  "language_info": {
   "codemirror_mode": {
    "name": "ipython",
    "version": 3
   },
   "file_extension": ".py",
   "mimetype": "text/x-python",
   "name": "python",
   "nbconvert_exporter": "python",
   "pygments_lexer": "ipython3",
   "version": "3.7.4"
  }
 },
 "nbformat": 4,
 "nbformat_minor": 2
}
